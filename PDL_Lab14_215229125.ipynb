{
  "cells": [
    {
      "cell_type": "markdown",
      "metadata": {
        "id": "t15ZyFtp_GFo"
      },
      "source": [
        "## **PDL_LAB 14: Classification of CIFAR-10 Data with Data augumentation** "
      ]
    },
    {
      "cell_type": "markdown",
      "metadata": {
        "id": "rbHe5z63R4Oy"
      },
      "source": [
        "**Name: NAMBIRAJAN R S<BR>Roll NO: 215229125**"
      ]
    },
    {
      "cell_type": "markdown",
      "metadata": {
        "id": "YN5t2xLFAsLM"
      },
      "source": [
        "### 1. Import Libraries"
      ]
    },
    {
      "cell_type": "code",
      "execution_count": null,
      "metadata": {
        "id": "EZ-6Sqn2hRuQ"
      },
      "outputs": [],
      "source": [
        "from __future__ import print_function\n",
        "import keras\n",
        "from keras.datasets import cifar10\n",
        "from keras.preprocessing.image import ImageDataGenerator\n",
        "from keras.models import Sequential\n",
        "from keras.layers import Dense, Dropout, Activation, Flatten\n",
        "from keras.layers import Conv2D, MaxPooling2D\n",
        "from tensorflow.keras.utils import to_categorical\n",
        "from tensorflow.keras.optimizers import RMSprop,SGD,Adam\n",
        "import matplotlib.pyplot as plt\n",
        "%matplotlib inline"
      ]
    },
    {
      "cell_type": "markdown",
      "metadata": {
        "id": "WDcAnQnKA0ni"
      },
      "source": [
        "### 2. Split train and test sets"
      ]
    },
    {
      "cell_type": "code",
      "execution_count": null,
      "metadata": {
        "id": "rdSHf35pAqLn"
      },
      "outputs": [],
      "source": [
        "(x_train,y_train), (x_test, y_test)= cifar10.load_data()"
      ]
    },
    {
      "cell_type": "code",
      "execution_count": null,
      "metadata": {
        "colab": {
          "base_uri": "https://localhost:8080/"
        },
        "id": "QA9zXP35BLbT",
        "outputId": "3daa1f55-e44e-417b-cbc5-b4c8fa7e8798"
      },
      "outputs": [
        {
          "output_type": "stream",
          "name": "stdout",
          "text": [
            "X_train: (50000, 32, 32, 3)\n",
            "50000 train samples\n",
            "10000 test samples\n"
          ]
        }
      ],
      "source": [
        "print('X_train:', x_train.shape)\n",
        "print(x_train.shape[0],'train samples')\n",
        "print(x_test.shape[0], 'test samples')"
      ]
    },
    {
      "cell_type": "markdown",
      "metadata": {
        "id": "uN1uRtKiBl-y"
      },
      "source": [
        "Print the shape of one image (IS IT 32* 32 * 3 NUMPY ARRAY?)"
      ]
    },
    {
      "cell_type": "code",
      "execution_count": null,
      "metadata": {
        "colab": {
          "base_uri": "https://localhost:8080/"
        },
        "id": "zr5zALELBjcK",
        "outputId": "97e2a703-2f3d-4f4b-e3a6-e2069d40b2b2"
      },
      "outputs": [
        {
          "output_type": "execute_result",
          "data": {
            "text/plain": [
              "(32, 32, 3)"
            ]
          },
          "metadata": {},
          "execution_count": 4
        }
      ],
      "source": [
        "x_train[444].shape"
      ]
    },
    {
      "cell_type": "markdown",
      "metadata": {
        "id": "P0En2OYuB5JR"
      },
      "source": [
        "Display one image using imshow() function"
      ]
    },
    {
      "cell_type": "code",
      "execution_count": null,
      "metadata": {
        "colab": {
          "base_uri": "https://localhost:8080/",
          "height": 301
        },
        "id": "MMWVDP0-B1yQ",
        "outputId": "77a2157e-a275-4ca4-8daa-ab6550923be4"
      },
      "outputs": [
        {
          "output_type": "stream",
          "name": "stdout",
          "text": [
            "[9]\n"
          ]
        },
        {
          "output_type": "execute_result",
          "data": {
            "text/plain": [
              "<matplotlib.image.AxesImage at 0x7f870488cf50>"
            ]
          },
          "metadata": {},
          "execution_count": 5
        },
        {
          "output_type": "display_data",
          "data": {
            "text/plain": [
              "<Figure size 432x288 with 1 Axes>"
            ],
            "image/png": "[encoded data removed]"
          },
          "metadata": {
            "needs_background": "light"
          }
        }
      ],
      "source": [
        "print(y_train[444])\n",
        "plt.imshow(x_train[444])"
      ]
    },
    {
      "cell_type": "markdown",
      "metadata": {
        "id": "U0VaakyrCIYv"
      },
      "source": [
        "### 3. Convert y_train and y_test into categorical values"
      ]
    },
    {
      "cell_type": "code",
      "execution_count": null,
      "metadata": {
        "id": "pQoe0QPXCGG3"
      },
      "outputs": [],
      "source": [
        "num_classes = 10\n",
        "y_train = to_categorical(y_train, num_classes)\n",
        "y_test = to_categorical(y_test, num_classes)"
      ]
    },
    {
      "cell_type": "code",
      "execution_count": null,
      "metadata": {
        "colab": {
          "base_uri": "https://localhost:8080/"
        },
        "id": "tCyfl9_xCwAl",
        "outputId": "8c162c50-723f-4311-a9d5-ed1fc4160918"
      },
      "outputs": [
        {
          "output_type": "execute_result",
          "data": {
            "text/plain": [
              "array([0., 0., 0., 0., 0., 0., 0., 0., 0., 1.], dtype=float32)"
            ]
          },
          "metadata": {},
          "execution_count": 7
        }
      ],
      "source": [
        "y_train[444]"
      ]
    },
    {
      "cell_type": "markdown",
      "metadata": {
        "id": "Dmjwyu3lEXcO"
      },
      "source": [
        "### 4. Normalize X values by dividing it by 255"
      ]
    },
    {
      "cell_type": "code",
      "execution_count": null,
      "metadata": {
        "id": "ue1UTV5JEVmH"
      },
      "outputs": [],
      "source": [
        "x_train = x_train.astype('float32')\n",
        "x_test = x_test.astype('float32')\n",
        "x_train /= 255\n",
        "x_test /= 255"
      ]
    },
    {
      "cell_type": "markdown",
      "metadata": {
        "id": "WJuctG_SEiC1"
      },
      "source": [
        "### 5. Create the baseline model as below"
      ]
    },
    {
      "cell_type": "code",
      "execution_count": null,
      "metadata": {
        "id": "8yQPbCseEfYd"
      },
      "outputs": [],
      "source": [
        "INPUT_SHAPE = (32,32,3)\n",
        "model = Sequential()\n",
        "model.add(Conv2D(filters=32, kernel_size=(5,5),strides=(2,2),activation='relu', \n",
        "                 padding='same', input_shape=INPUT_SHAPE))\n",
        "model.add(Conv2D(filters=32, kernel_size=(5,5),strides=(2,2),activation='relu', \n",
        "                 padding='same', input_shape=INPUT_SHAPE))\n",
        "model.add(MaxPooling2D(pool_size=(2,2)))\n",
        "model.add(Dropout(rate=0.25))\n",
        "model.add(Flatten())\n",
        "model.add(Dense(512, activation='relu'))\n",
        "model.add(Dropout(rate=0.5))\n",
        "model.add(Dense(10, activation='softmax'))"
      ]
    },
    {
      "cell_type": "code",
      "execution_count": null,
      "metadata": {
        "colab": {
          "base_uri": "https://localhost:8080/"
        },
        "id": "J8i1VGhVE1VN",
        "outputId": "ad2c7aca-710b-4956-b735-f27972fc50d6"
      },
      "outputs": [
        {
          "output_type": "stream",
          "name": "stdout",
          "text": [
            "Model: \"sequential\"\n",
            "_________________________________________________________________\n",
            " Layer (type)                Output Shape              Param #   \n",
            "=================================================================\n",
            " conv2d (Conv2D)             (None, 16, 16, 32)        2432      \n",
            "                                                                 \n",
            " conv2d_1 (Conv2D)           (None, 8, 8, 32)          25632     \n",
            "                                                                 \n",
            " max_pooling2d (MaxPooling2D  (None, 4, 4, 32)         0         \n",
            " )                                                               \n",
            "                                                                 \n",
            " dropout (Dropout)           (None, 4, 4, 32)          0         \n",
            "                                                                 \n",
            " flatten (Flatten)           (None, 512)               0         \n",
            "                                                                 \n",
            " dense (Dense)               (None, 512)               262656    \n",
            "                                                                 \n",
            " dropout_1 (Dropout)         (None, 512)               0         \n",
            "                                                                 \n",
            " dense_1 (Dense)             (None, 10)                5130      \n",
            "                                                                 \n",
            "=================================================================\n",
            "Total params: 295,850\n",
            "Trainable params: 295,850\n",
            "Non-trainable params: 0\n",
            "_________________________________________________________________\n"
          ]
        }
      ],
      "source": [
        "model.summary()"
      ]
    },
    {
      "cell_type": "markdown",
      "metadata": {
        "id": "v6R6wu23Fdvu"
      },
      "source": [
        "### 6. Train the baseline model"
      ]
    },
    {
      "cell_type": "code",
      "execution_count": null,
      "metadata": {
        "id": "sw5Q5aldE6H9"
      },
      "outputs": [],
      "source": [
        "model.compile(optimizer=RMSprop(learning_rate=0.0005,decay=1e-6),\n",
        "              loss='categorical_crossentropy',metrics=['accuracy'])"
      ]
    },
    {
      "cell_type": "markdown",
      "source": [
        "### 7. Define baseline Data Augmentation steps"
      ],
      "metadata": {
        "id": "5fQCt1GX4G_9"
      }
    },
    {
      "cell_type": "code",
      "source": [
        "datagen = ImageDataGenerator(featurewise_center=False , samplewise_center=False,\n",
        "                             featurewise_std_normalization=False,\n",
        "                             samplewise_std_normalization=False, \n",
        "                             zca_whitening=False, \n",
        "                             rotation_range=0, width_shift_range=0.1,\n",
        "                             height_shift_range=0.1,\n",
        "                             horizontal_flip=True,vertical_flip=False)"
      ],
      "metadata": {
        "id": "nu3Fx4pD4GBf"
      },
      "execution_count": null,
      "outputs": []
    },
    {
      "cell_type": "code",
      "source": [
        "datagen.fit(x_train) # this computes any statistics that may be needed (e.g for centering) from the training set"
      ],
      "metadata": {
        "id": "IMTwz2ll4F9t"
      },
      "execution_count": null,
      "outputs": []
    },
    {
      "cell_type": "code",
      "source": [
        "# fit the model on the batches generated by datagen.flow()\n",
        "model.fit_generator(datagen.flow(x_train,y_train,batch_size=32),\n",
        "                    steps_per_epoch=x_train.shape[0],epochs=15,validation_data=(x_test,y_test))"
      ],
      "metadata": {
        "colab": {
          "base_uri": "https://localhost:8080/"
        },
        "id": "4CPN85kl4F51",
        "outputId": "3ff93125-ec87-41c2-cedb-5289c096d9b9"
      },
      "execution_count": null,
      "outputs": [
        {
          "output_type": "stream",
          "name": "stdout",
          "text": [
            "Epoch 1/15\n"
          ]
        },
        {
          "output_type": "stream",
          "name": "stderr",
          "text": [
            "/usr/local/lib/python3.7/dist-packages/ipykernel_launcher.py:2: UserWarning: `Model.fit_generator` is deprecated and will be removed in a future version. Please use `Model.fit`, which supports generators.\n",
            "  \n"
          ]
        },
        {
          "output_type": "stream",
          "name": "stdout",
          "text": [
            " 1562/50000 [..............................] - ETA: 32:45 - loss: 1.7494 - accuracy: 0.3605"
          ]
        },
        {
          "output_type": "stream",
          "name": "stderr",
          "text": [
            "WARNING:tensorflow:Your input ran out of data; interrupting training. Make sure that your dataset or generator can generate at least `steps_per_epoch * epochs` batches (in this case, 750000 batches). You may need to use the repeat() function when building your dataset.\n"
          ]
        },
        {
          "output_type": "stream",
          "name": "stdout",
          "text": [
            "\b\b\b\b\b\b\b\b\b\b\b\b\b\b\b\b\b\b\b\b\b\b\b\b\b\b\b\b\b\b\b\b\b\b\b\b\b\b\b\b\b\b\b\b\b\b\b\b\b\b\b\b\b\b\b\b\b\b\b\b\b\b\b\b\b\b\b\b\b\b\b\b\b\b\b\b\b\b\b\b\b\b\b\b\b\b\b\b\b\b\b\r50000/50000 [==============================] - 67s 1ms/step - loss: 1.7493 - accuracy: 0.3606 - val_loss: 1.4197 - val_accuracy: 0.4879\n"
          ]
        },
        {
          "output_type": "execute_result",
          "data": {
            "text/plain": [
              "<keras.callbacks.History at 0x7f870059dd90>"
            ]
          },
          "metadata": {},
          "execution_count": 14
        }
      ]
    },
    {
      "cell_type": "code",
      "source": [
        "INPUT_SHAPE = (32,32,3)\n",
        "model1 = Sequential()\n",
        "model1.add(Conv2D(filters=32, kernel_size=(5,5),strides=(2,2),activation='relu', \n",
        "                 padding='same', input_shape=INPUT_SHAPE))\n",
        "model1.add(Conv2D(filters=32, kernel_size=(5,5),strides=(2,2),activation='relu', \n",
        "                 padding='same', input_shape=INPUT_SHAPE))\n",
        "model1.add(MaxPooling2D(pool_size=(2,2)))\n",
        "model1.add(Dropout(rate=0.25))\n",
        "model1.add(Flatten())\n",
        "model1.add(Dense(512, activation='relu'))\n",
        "model1.add(Dropout(rate=0.5))\n",
        "model1.add(Dense(10, activation='softmax'))"
      ],
      "metadata": {
        "id": "fu1RS1cI8k_r"
      },
      "execution_count": null,
      "outputs": []
    },
    {
      "cell_type": "code",
      "source": [
        "model1.compile(optimizer=RMSprop(learning_rate=0.0005,decay=1e-6),\n",
        "              loss='categorical_crossentropy',metrics=['accuracy'])"
      ],
      "metadata": {
        "id": "u7fCC5Qf833D"
      },
      "execution_count": null,
      "outputs": []
    },
    {
      "cell_type": "code",
      "source": [
        "history=model1.fit(x_train,y_train,batch_size=32,epochs=15,\n",
        "                  verbose=2,validation_split=0.2,shuffle=True)"
      ],
      "metadata": {
        "colab": {
          "base_uri": "https://localhost:8080/"
        },
        "id": "YreK_s7P8bgL",
        "outputId": "19724801-43bf-4931-b4ce-a62124089056"
      },
      "execution_count": null,
      "outputs": [
        {
          "output_type": "stream",
          "name": "stdout",
          "text": [
            "Epoch 1/15\n",
            "1250/1250 - 30s - loss: 1.7200 - accuracy: 0.3702 - val_loss: 1.4355 - val_accuracy: 0.4926 - 30s/epoch - 24ms/step\n",
            "Epoch 2/15\n",
            "1250/1250 - 31s - loss: 1.4317 - accuracy: 0.4845 - val_loss: 1.2901 - val_accuracy: 0.5486 - 31s/epoch - 25ms/step\n",
            "Epoch 3/15\n",
            "1250/1250 - 32s - loss: 1.3132 - accuracy: 0.5293 - val_loss: 1.2717 - val_accuracy: 0.5590 - 32s/epoch - 26ms/step\n",
            "Epoch 4/15\n",
            "1250/1250 - 31s - loss: 1.2364 - accuracy: 0.5566 - val_loss: 1.1681 - val_accuracy: 0.5979 - 31s/epoch - 25ms/step\n",
            "Epoch 5/15\n",
            "1250/1250 - 32s - loss: 1.1909 - accuracy: 0.5788 - val_loss: 1.1411 - val_accuracy: 0.6004 - 32s/epoch - 25ms/step\n",
            "Epoch 6/15\n",
            "1250/1250 - 31s - loss: 1.1492 - accuracy: 0.5957 - val_loss: 1.0867 - val_accuracy: 0.6222 - 31s/epoch - 25ms/step\n",
            "Epoch 7/15\n",
            "1250/1250 - 31s - loss: 1.1209 - accuracy: 0.6065 - val_loss: 1.1381 - val_accuracy: 0.6143 - 31s/epoch - 25ms/step\n",
            "Epoch 8/15\n",
            "1250/1250 - 31s - loss: 1.0938 - accuracy: 0.6148 - val_loss: 1.0401 - val_accuracy: 0.6430 - 31s/epoch - 25ms/step\n",
            "Epoch 9/15\n",
            "1250/1250 - 31s - loss: 1.0730 - accuracy: 0.6266 - val_loss: 1.0394 - val_accuracy: 0.6339 - 31s/epoch - 25ms/step\n",
            "Epoch 10/15\n",
            "1250/1250 - 31s - loss: 1.0585 - accuracy: 0.6326 - val_loss: 1.0260 - val_accuracy: 0.6456 - 31s/epoch - 25ms/step\n",
            "Epoch 11/15\n",
            "1250/1250 - 31s - loss: 1.0436 - accuracy: 0.6380 - val_loss: 1.0027 - val_accuracy: 0.6574 - 31s/epoch - 25ms/step\n",
            "Epoch 12/15\n",
            "1250/1250 - 31s - loss: 1.0320 - accuracy: 0.6452 - val_loss: 1.0351 - val_accuracy: 0.6461 - 31s/epoch - 25ms/step\n",
            "Epoch 13/15\n",
            "1250/1250 - 31s - loss: 1.0306 - accuracy: 0.6438 - val_loss: 0.9885 - val_accuracy: 0.6598 - 31s/epoch - 25ms/step\n",
            "Epoch 14/15\n",
            "1250/1250 - 31s - loss: 1.0199 - accuracy: 0.6518 - val_loss: 1.0053 - val_accuracy: 0.6554 - 31s/epoch - 25ms/step\n",
            "Epoch 15/15\n",
            "1250/1250 - 31s - loss: 1.0234 - accuracy: 0.6501 - val_loss: 1.0378 - val_accuracy: 0.6482 - 31s/epoch - 25ms/step\n"
          ]
        }
      ]
    },
    {
      "cell_type": "code",
      "execution_count": null,
      "metadata": {
        "colab": {
          "base_uri": "https://localhost:8080/"
        },
        "id": "0X_EcQaYHvL0",
        "outputId": "940e84aa-5f31-4930-f7b3-b0f410bee43e"
      },
      "outputs": [
        {
          "output_type": "stream",
          "name": "stdout",
          "text": [
            "Test loss: 1.4196733236312866\n",
            "Test accuracy: 0.4878999888896942\n"
          ]
        }
      ],
      "source": [
        "score = model.evaluate(x_test, y_test, verbose=0) # data augumentation\n",
        "print('Test loss:', score[0])\n",
        "print('Test accuracy:', score[1])"
      ]
    },
    {
      "cell_type": "code",
      "source": [
        "score = model1.evaluate(x_test, y_test, verbose=0)\n",
        "print('Test loss:', score[0])\n",
        "print('Test accuracy:', score[1])"
      ],
      "metadata": {
        "colab": {
          "base_uri": "https://localhost:8080/"
        },
        "id": "rIcLNFRh8-Ic",
        "outputId": "34d2f198-966e-4bcb-9099-47e358f275b6"
      },
      "execution_count": null,
      "outputs": [
        {
          "output_type": "stream",
          "name": "stdout",
          "text": [
            "Test loss: 1.0354679822921753\n",
            "Test accuracy: 0.6428999900817871\n"
          ]
        }
      ]
    },
    {
      "cell_type": "markdown",
      "metadata": {
        "id": "UeiTs4CwHlXk"
      },
      "source": [
        "### 8. Answer this Question"
      ]
    },
    {
      "cell_type": "markdown",
      "metadata": {
        "id": "K8PCiHIjI3ni"
      },
      "source": [
        "1. How does the performance compare with the non-augmented training?\n",
        "2. Experiment above with different settings of the data augmentation parameters. Can you make the model do better? Can you make it do worse?"
      ]
    },
    {
      "cell_type": "markdown",
      "source": [
        "### Ans: Without Data augumentation has better accuracy comparing non-augmented data"
      ],
      "metadata": {
        "id": "3iiCPn_DCJU-"
      }
    },
    {
      "cell_type": "markdown",
      "metadata": {
        "id": "qi3UcoaVJIgz"
      },
      "source": [
        "**Model 1**"
      ]
    },
    {
      "cell_type": "code",
      "execution_count": null,
      "metadata": {
        "id": "wncsCCjxG6kz"
      },
      "outputs": [],
      "source": [
        "INPUT_SHAPE = (32,32,3)\n",
        "model2 = Sequential()\n",
        "model2.add(Conv2D(filters=64, kernel_size=(5,5),strides=(1,1),\n",
        "                  activation='relu', padding='same', input_shape=INPUT_SHAPE))\n",
        "model2.add(Conv2D(filters=32, kernel_size=(4,4),strides=(1,1),\n",
        "                  activation='relu', padding='same', input_shape=INPUT_SHAPE))\n",
        "model2.add(MaxPooling2D(pool_size=(2,2)))\n",
        "model2.add(Conv2D(filters=64, kernel_size=(5,5),strides=(1,1),\n",
        "                  activation='relu', padding='same', input_shape=INPUT_SHAPE))\n",
        "model2.add(Conv2D(filters=32, kernel_size=(4,4),strides=(1,1),\n",
        "                  activation='relu', padding='same', input_shape=INPUT_SHAPE))\n",
        "model2.add(MaxPooling2D(pool_size=(2,2)))\n",
        "model2.add(Flatten())\n",
        "model2.add(Dense(512, activation='relu'))\n",
        "model2.add(Dense(256, activation='relu'))\n",
        "model2.add(Dense(10, activation='softmax'))"
      ]
    },
    {
      "cell_type": "code",
      "execution_count": null,
      "metadata": {
        "colab": {
          "base_uri": "https://localhost:8080/"
        },
        "id": "WFhuy3j9JT3s",
        "outputId": "47dd92aa-8088-41f7-8b29-5fef2184c05f"
      },
      "outputs": [
        {
          "output_type": "stream",
          "name": "stdout",
          "text": [
            "Model: \"sequential_2\"\n",
            "_________________________________________________________________\n",
            " Layer (type)                Output Shape              Param #   \n",
            "=================================================================\n",
            " conv2d_4 (Conv2D)           (None, 32, 32, 64)        4864      \n",
            "                                                                 \n",
            " conv2d_5 (Conv2D)           (None, 32, 32, 32)        32800     \n",
            "                                                                 \n",
            " max_pooling2d_2 (MaxPooling  (None, 16, 16, 32)       0         \n",
            " 2D)                                                             \n",
            "                                                                 \n",
            " conv2d_6 (Conv2D)           (None, 16, 16, 64)        51264     \n",
            "                                                                 \n",
            " conv2d_7 (Conv2D)           (None, 16, 16, 32)        32800     \n",
            "                                                                 \n",
            " max_pooling2d_3 (MaxPooling  (None, 8, 8, 32)         0         \n",
            " 2D)                                                             \n",
            "                                                                 \n",
            " flatten_2 (Flatten)         (None, 2048)              0         \n",
            "                                                                 \n",
            " dense_4 (Dense)             (None, 512)               1049088   \n",
            "                                                                 \n",
            " dense_5 (Dense)             (None, 256)               131328    \n",
            "                                                                 \n",
            " dense_6 (Dense)             (None, 10)                2570      \n",
            "                                                                 \n",
            "=================================================================\n",
            "Total params: 1,304,714\n",
            "Trainable params: 1,304,714\n",
            "Non-trainable params: 0\n",
            "_________________________________________________________________\n"
          ]
        }
      ],
      "source": [
        "model2.summary()"
      ]
    },
    {
      "cell_type": "code",
      "source": [
        "model2.compile(optimizer=RMSprop(learning_rate=0.0005,decay=1e-6),\n",
        "              loss='categorical_crossentropy',metrics=['accuracy'])"
      ],
      "metadata": {
        "id": "rleDNvZrBDPc"
      },
      "execution_count": null,
      "outputs": []
    },
    {
      "cell_type": "code",
      "execution_count": null,
      "metadata": {
        "colab": {
          "base_uri": "https://localhost:8080/"
        },
        "id": "s9VoxskcJ2uv",
        "outputId": "b2ba9721-312d-42ef-c580-c5884ece7acf"
      },
      "outputs": [
        {
          "output_type": "stream",
          "name": "stdout",
          "text": [
            "Epoch 1/15\n"
          ]
        },
        {
          "output_type": "stream",
          "name": "stderr",
          "text": [
            "/usr/local/lib/python3.7/dist-packages/ipykernel_launcher.py:2: UserWarning: `Model.fit_generator` is deprecated and will be removed in a future version. Please use `Model.fit`, which supports generators.\n",
            "  \n"
          ]
        },
        {
          "output_type": "stream",
          "name": "stdout",
          "text": [
            " 1563/50000 [..............................] - ETA: 5:32:30 - loss: 1.5904 - accuracy: 0.4238"
          ]
        },
        {
          "output_type": "stream",
          "name": "stderr",
          "text": [
            "WARNING:tensorflow:Your input ran out of data; interrupting training. Make sure that your dataset or generator can generate at least `steps_per_epoch * epochs` batches (in this case, 750000 batches). You may need to use the repeat() function when building your dataset.\n"
          ]
        },
        {
          "output_type": "stream",
          "name": "stdout",
          "text": [
            "\b\b\b\b\b\b\b\b\b\b\b\b\b\b\b\b\b\b\b\b\b\b\b\b\b\b\b\b\b\b\b\b\b\b\b\b\b\b\b\b\b\b\b\b\b\b\b\b\b\b\b\b\b\b\b\b\b\b\b\b\b\b\b\b\b\b\b\b\b\b\b\b\b\b\b\b\b\b\b\b\b\b\b\b\b\b\b\b\b\b\b\b\b\r50000/50000 [==============================] - 668s 13ms/step - loss: 1.5904 - accuracy: 0.4238 - val_loss: 1.2222 - val_accuracy: 0.5592\n"
          ]
        },
        {
          "output_type": "execute_result",
          "data": {
            "text/plain": [
              "<keras.callbacks.History at 0x7f86fc8e0450>"
            ]
          },
          "metadata": {},
          "execution_count": 23
        }
      ],
      "source": [
        "# fit the model on the batches generated by datagen.flow()\n",
        "model2.fit_generator(datagen.flow(x_train,y_train,batch_size=32),\n",
        "                     steps_per_epoch=x_train.shape[0],epochs=15,validation_data=(x_test,y_test))"
      ]
    },
    {
      "cell_type": "code",
      "execution_count": null,
      "metadata": {
        "colab": {
          "base_uri": "https://localhost:8080/"
        },
        "id": "WlG_Pjl8KC4I",
        "outputId": "79ac4bb3-5011-43f3-baa0-8fba6d30f0bb"
      },
      "outputs": [
        {
          "output_type": "stream",
          "name": "stdout",
          "text": [
            "Epoch 1/5\n",
            "1250/1250 - 507s - loss: 1.0895 - accuracy: 0.6142 - val_loss: 1.0691 - val_accuracy: 0.6274 - 507s/epoch - 406ms/step\n",
            "Epoch 2/5\n",
            "1250/1250 - 500s - loss: 0.8649 - accuracy: 0.6993 - val_loss: 0.8850 - val_accuracy: 0.6898 - 500s/epoch - 400ms/step\n",
            "Epoch 3/5\n",
            "1250/1250 - 495s - loss: 0.7132 - accuracy: 0.7522 - val_loss: 0.8186 - val_accuracy: 0.7200 - 495s/epoch - 396ms/step\n",
            "Epoch 4/5\n",
            "1250/1250 - 501s - loss: 0.5972 - accuracy: 0.7944 - val_loss: 0.9004 - val_accuracy: 0.7085 - 501s/epoch - 401ms/step\n",
            "Epoch 5/5\n",
            "1250/1250 - 502s - loss: 0.5116 - accuracy: 0.8266 - val_loss: 0.8759 - val_accuracy: 0.7124 - 502s/epoch - 402ms/step\n"
          ]
        }
      ],
      "source": [
        "history1=model2.fit(x_train,y_train,batch_size=32,epochs=5,\n",
        "                  verbose=2,validation_split=0.2,shuffle=True)"
      ]
    },
    {
      "cell_type": "code",
      "execution_count": null,
      "metadata": {
        "colab": {
          "base_uri": "https://localhost:8080/"
        },
        "id": "dSA6ymKLKJxw",
        "outputId": "627a823f-b1de-4762-ab31-984b10333858"
      },
      "outputs": [
        {
          "output_type": "stream",
          "name": "stdout",
          "text": [
            "Test loss: 0.9064686298370361\n",
            "Test accuracy: 0.7103999853134155\n"
          ]
        }
      ],
      "source": [
        "\n",
        "\n",
        "\n",
        "score = model2.evaluate(x_test, y_test, verbose=0)\n",
        "print('Test loss:', score[0])\n",
        "print('Test accuracy:', score[1])"
      ]
    }
  ],
  "metadata": {
    "colab": {
      "collapsed_sections": [],
      "provenance": []
    },
    "kernelspec": {
      "display_name": "Python 3 (ipykernel)",
      "language": "python",
      "name": "python3"
    },
    "language_info": {
      "codemirror_mode": {
        "name": "ipython",
        "version": 3
      },
      "file_extension": ".py",
      "mimetype": "text/x-python",
      "name": "python",
      "nbconvert_exporter": "python",
      "pygments_lexer": "ipython3",
      "version": "3.9.12"
    }
  },
  "nbformat": 4,
  "nbformat_minor": 0
}